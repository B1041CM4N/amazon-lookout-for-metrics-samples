{
 "cells": [
  {
   "cell_type": "markdown",
   "metadata": {},
   "source": [
    "# Setting Up Your Environment\n",
    "\n",
    "This notebook assumes you completed the earlier steps in `README.md`, if you did not, go back and do that, the notebook will wait patiently for you to come back.\n",
    "\n",
    "Now the first thing to do is to patch the local copies of botocore, boto3, and the awscli. To do that we must first remove the old versions, then install the correct beta versions."
   ]
  },
  {
   "cell_type": "markdown",
   "metadata": {},
   "source": [
    "## Import Packages\n",
    "\n",
    "The packages below from inside Python's standard library will enable us to better extract and load content within this local system later."
   ]
  },
  {
   "cell_type": "code",
   "execution_count": 1,
   "metadata": {},
   "outputs": [],
   "source": [
    "import os\n",
    "import shutil\n",
    "import zipfile"
   ]
  },
  {
   "cell_type": "markdown",
   "metadata": {},
   "source": [
    "## Removing the Old Versions:\n",
    "\n",
    "Run each cell below, the `pip` command in each will forcibly remove one package, once done you will be ready to install the beta versions which are needed until the service leaves the preview state."
   ]
  },
  {
   "cell_type": "code",
   "execution_count": 2,
   "metadata": {},
   "outputs": [
    {
     "name": "stdout",
     "output_type": "stream",
     "text": [
      "Found existing installation: awscli 1.18.170\n",
      "Uninstalling awscli-1.18.170:\n",
      "  Successfully uninstalled awscli-1.18.170\n"
     ]
    }
   ],
   "source": [
    "!pip uninstall -y awscli"
   ]
  },
  {
   "cell_type": "code",
   "execution_count": 3,
   "metadata": {},
   "outputs": [
    {
     "name": "stdout",
     "output_type": "stream",
     "text": [
      "Found existing installation: boto3 1.16.10\n",
      "Uninstalling boto3-1.16.10:\n",
      "  Successfully uninstalled boto3-1.16.10\n"
     ]
    }
   ],
   "source": [
    "!pip uninstall -y boto3"
   ]
  },
  {
   "cell_type": "code",
   "execution_count": 4,
   "metadata": {},
   "outputs": [
    {
     "name": "stdout",
     "output_type": "stream",
     "text": [
      "Found existing installation: botocore 1.19.10\n",
      "Uninstalling botocore-1.19.10:\n",
      "  Successfully uninstalled botocore-1.19.10\n"
     ]
    }
   ],
   "source": [
    "!pip uninstall -y botocore"
   ]
  },
  {
   "cell_type": "markdown",
   "metadata": {},
   "source": [
    "## Installing the Beta Versions\n",
    "\n",
    "The commands below will create a location in the home folder to house the betas, this will allow them to persist if you need them after a reboot. \n",
    "\n",
    "When you sign up, you will be allow-listed soon after signing up for preview. Once allow-listed, you will receive a welcome email with access to the most recent release of the beta SDK, SDK documentation, and the API guide. The link to the most recent release of the beta SDK will point you to a `.zip` file in a S3 bucket. Download that file and upload it into this \"getting_started/\" directory. Once it's upload, execute the commands below to extract the SDK.\n",
    "\n",
    "To upload it, simply drag the file into the folder or directory browser to the left of this notebook.\n",
    "\n",
    "Note change the filename in the cell below to match what was downloaded via your welcome link"
   ]
  },
  {
   "cell_type": "code",
   "execution_count": 6,
   "metadata": {},
   "outputs": [],
   "source": [
    "sdk_filename = \"amazon-lookoutmetrics-python-sdk-2020-12-08.zip\""
   ]
  },
  {
   "cell_type": "code",
   "execution_count": 7,
   "metadata": {},
   "outputs": [],
   "source": [
    "sdk_extract_dst = os.path.join(\"../sdk\")\n",
    "\n",
    "if os.path.exists(sdk_extract_dst):\n",
    "    shutil.rmtree(sdk_extract_dst)\n",
    "os.makedirs(sdk_extract_dst)\n",
    "\n",
    "zip_filename = os.path.join(\"./\", sdk_filename)\n",
    "\n",
    "with zipfile.ZipFile( zip_filename, \"r\" ) as zip_fd:\n",
    "    zip_fd.extractall(sdk_extract_dst)"
   ]
  },
  {
   "cell_type": "markdown",
   "metadata": {},
   "source": [
    "Now, run the commands below to locate and install the SDK. After this your environment will be patched and ready."
   ]
  },
  {
   "cell_type": "code",
   "execution_count": 9,
   "metadata": {},
   "outputs": [],
   "source": [
    "import glob\n",
    "botocore_whl = glob.glob(sdk_extract_dst+'/botocore*.whl',  recursive=False)[0]\n",
    "awscli_whl = glob.glob(sdk_extract_dst+'/awscli*.whl',  recursive=False)[0]\n",
    "boto3_whl = glob.glob(sdk_extract_dst+'/boto3*.whl',  recursive=False)[0]"
   ]
  },
  {
   "cell_type": "code",
   "execution_count": 10,
   "metadata": {},
   "outputs": [
    {
     "name": "stdout",
     "output_type": "stream",
     "text": [
      "Processing /home/chris/projects/amazon-lookout-for-metrics-samples/sdk/botocore-1.19.31-py2.py3-none-any.whl\n",
      "Requirement already satisfied: jmespath<1.0.0,>=0.7.1 in /home/chris/.virtualenvs/poirottest/lib/python3.7/site-packages (from botocore==1.19.31) (0.10.0)\n",
      "Requirement already satisfied: urllib3<1.27,>=1.25.4; python_version != \"3.4\" in /home/chris/.virtualenvs/poirottest/lib/python3.7/site-packages (from botocore==1.19.31) (1.25.10)\n",
      "Requirement already satisfied: python-dateutil<3.0.0,>=2.1 in /home/chris/.virtualenvs/poirottest/lib/python3.7/site-packages (from botocore==1.19.31) (2.8.1)\n",
      "Requirement already satisfied: six>=1.5 in /home/chris/.virtualenvs/poirottest/lib/python3.7/site-packages (from python-dateutil<3.0.0,>=2.1->botocore==1.19.31) (1.15.0)\n",
      "Installing collected packages: botocore\n",
      "Successfully installed botocore-1.19.31\n",
      "\u001b[33mWARNING: You are using pip version 20.1.1; however, version 20.3.3 is available.\n",
      "You should consider upgrading via the '/home/chris/.virtualenvs/poirottest/bin/python -m pip install --upgrade pip' command.\u001b[0m\n"
     ]
    }
   ],
   "source": [
    "!pip install {sdk_extract_dst}/{botocore_whl}"
   ]
  },
  {
   "cell_type": "code",
   "execution_count": 11,
   "metadata": {},
   "outputs": [
    {
     "name": "stdout",
     "output_type": "stream",
     "text": [
      "Processing /home/chris/projects/amazon-lookout-for-metrics-samples/sdk/awscli-1.18.191-py2.py3-none-any.whl\n",
      "Requirement already satisfied: PyYAML<5.4,>=3.10; python_version != \"3.4\" in /home/chris/.virtualenvs/poirottest/lib/python3.7/site-packages (from awscli==1.18.191) (5.3.1)\n",
      "Requirement already satisfied: colorama<0.4.4,>=0.2.5; python_version != \"3.4\" in /home/chris/.virtualenvs/poirottest/lib/python3.7/site-packages (from awscli==1.18.191) (0.4.3)\n",
      "Requirement already satisfied: s3transfer<0.4.0,>=0.3.0 in /home/chris/.virtualenvs/poirottest/lib/python3.7/site-packages (from awscli==1.18.191) (0.3.3)\n",
      "Requirement already satisfied: rsa<=4.5.0,>=3.1.2; python_version != \"3.4\" in /home/chris/.virtualenvs/poirottest/lib/python3.7/site-packages (from awscli==1.18.191) (3.4.2)\n",
      "Requirement already satisfied: botocore==1.19.31 in /home/chris/.virtualenvs/poirottest/lib/python3.7/site-packages (from awscli==1.18.191) (1.19.31)\n",
      "Requirement already satisfied: docutils<0.16,>=0.10 in /home/chris/.virtualenvs/poirottest/lib/python3.7/site-packages (from awscli==1.18.191) (0.15.2)\n",
      "Requirement already satisfied: pyasn1>=0.1.3 in /home/chris/.virtualenvs/poirottest/lib/python3.7/site-packages (from rsa<=4.5.0,>=3.1.2; python_version != \"3.4\"->awscli==1.18.191) (0.4.8)\n",
      "Requirement already satisfied: python-dateutil<3.0.0,>=2.1 in /home/chris/.virtualenvs/poirottest/lib/python3.7/site-packages (from botocore==1.19.31->awscli==1.18.191) (2.8.1)\n",
      "Requirement already satisfied: urllib3<1.27,>=1.25.4; python_version != \"3.4\" in /home/chris/.virtualenvs/poirottest/lib/python3.7/site-packages (from botocore==1.19.31->awscli==1.18.191) (1.25.10)\n",
      "Requirement already satisfied: jmespath<1.0.0,>=0.7.1 in /home/chris/.virtualenvs/poirottest/lib/python3.7/site-packages (from botocore==1.19.31->awscli==1.18.191) (0.10.0)\n",
      "Requirement already satisfied: six>=1.5 in /home/chris/.virtualenvs/poirottest/lib/python3.7/site-packages (from python-dateutil<3.0.0,>=2.1->botocore==1.19.31->awscli==1.18.191) (1.15.0)\n",
      "Installing collected packages: awscli\n",
      "Successfully installed awscli-1.18.191\n",
      "\u001b[33mWARNING: You are using pip version 20.1.1; however, version 20.3.3 is available.\n",
      "You should consider upgrading via the '/home/chris/.virtualenvs/poirottest/bin/python -m pip install --upgrade pip' command.\u001b[0m\n"
     ]
    }
   ],
   "source": [
    "!pip install {sdk_extract_dst}/{awscli_whl}"
   ]
  },
  {
   "cell_type": "code",
   "execution_count": 12,
   "metadata": {},
   "outputs": [
    {
     "name": "stdout",
     "output_type": "stream",
     "text": [
      "Processing /home/chris/projects/amazon-lookout-for-metrics-samples/sdk/boto3-1.16.31-py2.py3-none-any.whl\n",
      "Requirement already satisfied: botocore<1.20.0,>=1.19.31 in /home/chris/.virtualenvs/poirottest/lib/python3.7/site-packages (from boto3==1.16.31) (1.19.31)\n",
      "Requirement already satisfied: s3transfer<0.4.0,>=0.3.0 in /home/chris/.virtualenvs/poirottest/lib/python3.7/site-packages (from boto3==1.16.31) (0.3.3)\n",
      "Requirement already satisfied: jmespath<1.0.0,>=0.7.1 in /home/chris/.virtualenvs/poirottest/lib/python3.7/site-packages (from boto3==1.16.31) (0.10.0)\n",
      "Requirement already satisfied: urllib3<1.27,>=1.25.4; python_version != \"3.4\" in /home/chris/.virtualenvs/poirottest/lib/python3.7/site-packages (from botocore<1.20.0,>=1.19.31->boto3==1.16.31) (1.25.10)\n",
      "Requirement already satisfied: python-dateutil<3.0.0,>=2.1 in /home/chris/.virtualenvs/poirottest/lib/python3.7/site-packages (from botocore<1.20.0,>=1.19.31->boto3==1.16.31) (2.8.1)\n",
      "Requirement already satisfied: six>=1.5 in /home/chris/.virtualenvs/poirottest/lib/python3.7/site-packages (from python-dateutil<3.0.0,>=2.1->botocore<1.20.0,>=1.19.31->boto3==1.16.31) (1.15.0)\n",
      "Installing collected packages: boto3\n",
      "Successfully installed boto3-1.16.31\n",
      "\u001b[33mWARNING: You are using pip version 20.1.1; however, version 20.3.3 is available.\n",
      "You should consider upgrading via the '/home/chris/.virtualenvs/poirottest/bin/python -m pip install --upgrade pip' command.\u001b[0m\n"
     ]
    }
   ],
   "source": [
    "!pip install {sdk_extract_dst}/{boto3_whl}"
   ]
  },
  {
   "cell_type": "markdown",
   "metadata": {},
   "source": [
    "## Validating \n",
    "\n",
    "Just a test to make sure things are working correctly now that we have patched the SDK."
   ]
  },
  {
   "cell_type": "code",
   "execution_count": 13,
   "metadata": {},
   "outputs": [
    {
     "data": {
      "text/plain": [
       "{'ResponseMetadata': {'RequestId': 'bdc2ce4d-5d20-40f1-a680-65a8852eab9e',\n",
       "  'HTTPStatusCode': 200,\n",
       "  'HTTPHeaders': {'date': 'Mon, 04 Jan 2021 20:21:47 GMT',\n",
       "   'content-type': 'application/x-amz-json-1.1',\n",
       "   'content-length': '1280',\n",
       "   'connection': 'keep-alive',\n",
       "   'x-amzn-requestid': 'bdc2ce4d-5d20-40f1-a680-65a8852eab9e',\n",
       "   'x-amz-apigw-id': 'Yo_SQH0lPHcFcqQ=',\n",
       "   'x-amzn-trace-id': 'Root=1-5ff378db-5a7c60ec0524168e00f46f0c'},\n",
       "  'RetryAttempts': 0},\n",
       " 'MetricSetSummaryList': [{'MetricSetArn': 'arn:aws:lookoutmetrics:us-west-2:059124553121:MetricSet/capdemo/capdemodata',\n",
       "   'AnomalyDetectorArn': 'arn:aws:lookoutmetrics:us-west-2:059124553121:AnomalyDetector:capdemo',\n",
       "   'MetricSetDescription': 'sample info not important',\n",
       "   'MetricSetName': 'capdemodata',\n",
       "   'CreationTime': datetime.datetime(2020, 12, 18, 12, 48, 11, 782000, tzinfo=tzlocal()),\n",
       "   'LastModificationTime': datetime.datetime(2020, 12, 18, 12, 48, 11, 782000, tzinfo=tzlocal())},\n",
       "  {'MetricSetArn': 'arn:aws:lookoutmetrics:us-west-2:059124553121:MetricSet/initial-lookoutmetrics-backtesting-detector/initial-lookoutmetrics-backtesting-metric-set-1',\n",
       "   'AnomalyDetectorArn': 'arn:aws:lookoutmetrics:us-west-2:059124553121:AnomalyDetector:initial-lookoutmetrics-backtesting-detector',\n",
       "   'MetricSetName': 'initial-lookoutmetrics-backtesting-metric-set-1',\n",
       "   'CreationTime': datetime.datetime(2020, 12, 15, 17, 38, 9, 517000, tzinfo=tzlocal()),\n",
       "   'LastModificationTime': datetime.datetime(2020, 12, 15, 17, 38, 9, 517000, tzinfo=tzlocal())},\n",
       "  {'MetricSetArn': 'arn:aws:lookoutmetrics:us-west-2:059124553121:MetricSet/initial-lookoutmetrics-live-detector/initial-lookoutmetrics-live-metric-set-1',\n",
       "   'AnomalyDetectorArn': 'arn:aws:lookoutmetrics:us-west-2:059124553121:AnomalyDetector:initial-lookoutmetrics-live-detector',\n",
       "   'MetricSetName': 'initial-lookoutmetrics-live-metric-set-1',\n",
       "   'CreationTime': datetime.datetime(2020, 12, 15, 17, 35, 32, 173000, tzinfo=tzlocal()),\n",
       "   'LastModificationTime': datetime.datetime(2020, 12, 15, 17, 35, 32, 173000, tzinfo=tzlocal())}]}"
      ]
     },
     "execution_count": 13,
     "metadata": {},
     "output_type": "execute_result"
    }
   ],
   "source": [
    "import boto3\n",
    "\n",
    "L4M = boto3.client( \"lookoutmetrics\", region_name=\"us-west-2\" )\n",
    "L4M.list_metric_sets()"
   ]
  },
  {
   "cell_type": "markdown",
   "metadata": {},
   "source": [
    "If the code above executed with a 200 response code, you are now ready to move to `2.PrereqSetupData.ipynb`. \n",
    "\n",
    "Good luck!"
   ]
  },
  {
   "cell_type": "code",
   "execution_count": null,
   "metadata": {},
   "outputs": [],
   "source": []
  }
 ],
 "metadata": {
  "kernelspec": {
   "display_name": "Python 3",
   "language": "python",
   "name": "python3"
  },
  "language_info": {
   "codemirror_mode": {
    "name": "ipython",
    "version": 3
   },
   "file_extension": ".py",
   "mimetype": "text/x-python",
   "name": "python",
   "nbconvert_exporter": "python",
   "pygments_lexer": "ipython3",
   "version": "3.7.0"
  }
 },
 "nbformat": 4,
 "nbformat_minor": 4
}
